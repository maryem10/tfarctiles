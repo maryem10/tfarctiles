{
  "nbformat": 4,
  "nbformat_minor": 0,
  "metadata": {
    "colab": {
      "provenance": [],
      "toc_visible": true,
      "authorship_tag": "ABX9TyOmah6PZ+6an6WA7FjVEfI8",
      "include_colab_link": true
    },
    "kernelspec": {
      "name": "python3",
      "display_name": "Python 3"
    },
    "language_info": {
      "name": "python"
    }
  },
  "cells": [
    {
      "cell_type": "markdown",
      "metadata": {
        "id": "view-in-github",
        "colab_type": "text"
      },
      "source": [
        "<a href=\"https://colab.research.google.com/github/maryem10/tfarctiles/blob/main/paper_scientifi.ipynb\" target=\"_parent\"><img src=\"https://colab.research.google.com/assets/colab-badge.svg\" alt=\"Open In Colab\"/></a>"
      ]
    },
    {
      "cell_type": "markdown",
      "source": [
        "#import"
      ],
      "metadata": {
        "id": "JjmrAKY0ovrg"
      }
    },
    {
      "cell_type": "code",
      "execution_count": null,
      "metadata": {
        "colab": {
          "base_uri": "https://localhost:8080/"
        },
        "id": "NC67QMCcn-rg",
        "outputId": "fdfd42ef-711e-4fef-ef45-6ac952a10b6d"
      },
      "outputs": [
        {
          "output_type": "stream",
          "name": "stdout",
          "text": [
            "Cloning into 'long-summarization'...\n",
            "remote: Enumerating objects: 77, done.\u001b[K\n",
            "remote: Counting objects: 100% (30/30), done.\u001b[K\n",
            "remote: Compressing objects: 100% (13/13), done.\u001b[K\n",
            "remote: Total 77 (delta 22), reused 16 (delta 16), pack-reused 47\u001b[K\n",
            "Unpacking objects: 100% (77/77), 35.54 MiB | 10.15 MiB/s, done.\n"
          ]
        }
      ],
      "source": [
        "!git clone https://github.com/armancohan/long-summarization"
      ]
    },
    {
      "cell_type": "markdown",
      "source": [
        "#acceder au files"
      ],
      "metadata": {
        "id": "_hTP11c2pi7r"
      }
    },
    {
      "cell_type": "code",
      "source": [
        "%cd ../long-summarization"
      ],
      "metadata": {
        "colab": {
          "base_uri": "https://localhost:8080/"
        },
        "id": "hhJrD6l7puIp",
        "outputId": "cff431d2-01fb-43a8-bda6-98b16cd8c038"
      },
      "execution_count": null,
      "outputs": [
        {
          "output_type": "stream",
          "name": "stdout",
          "text": [
            "/content/long-summarization\n"
          ]
        }
      ]
    },
    {
      "cell_type": "markdown",
      "source": [
        "# Install any required dependencies:"
      ],
      "metadata": {
        "id": "S0h1LkjQp2aG"
      }
    },
    {
      "cell_type": "markdown",
      "source": [
        "# Nouvelle section"
      ],
      "metadata": {
        "id": "tIw5r6qne-Vi"
      }
    },
    {
      "cell_type": "code",
      "source": [
        "!pip install -r requirements.txt"
      ],
      "metadata": {
        "id": "bCVK3-Kap6Y7"
      },
      "execution_count": null,
      "outputs": []
    },
    {
      "cell_type": "code",
      "source": [
        "from google.colab import drive\n",
        "drive.mount('/content/drive')"
      ],
      "metadata": {
        "id": "Kz8kS32vE4pF"
      },
      "execution_count": null,
      "outputs": []
    },
    {
      "cell_type": "code",
      "source": [
        "!pip install tensorflow-gpu\n",
        "\n"
      ],
      "metadata": {
        "id": "CPaJdZDCqlWz"
      },
      "execution_count": null,
      "outputs": []
    },
    {
      "cell_type": "code",
      "source": [
        "!pip install tensorflow-gpu==2.8.0\n"
      ],
      "metadata": {
        "id": "o-4NAjKurAtm"
      },
      "execution_count": null,
      "outputs": []
    },
    {
      "cell_type": "markdown",
      "source": [
        "fre"
      ],
      "metadata": {
        "id": "qqxvZ7RCWF6U"
      }
    },
    {
      "cell_type": "code",
      "source": [
        "!pip install -r requirements.txt"
      ],
      "metadata": {
        "id": "RgDomBdOq25B"
      },
      "execution_count": null,
      "outputs": []
    },
    {
      "cell_type": "code",
      "source": [
        "!bash run.sh"
      ],
      "metadata": {
        "colab": {
          "base_uri": "https://localhost:8080/"
        },
        "id": "m-1OoI81rsjC",
        "outputId": "a84e8033-df62-4904-8f46-c8a057ee55a6"
      },
      "execution_count": 56,
      "outputs": [
        {
          "output_type": "stream",
          "name": "stdout",
          "text": [
            "2023-07-10 11:02:14.198580: W tensorflow/stream_executor/platform/default/dso_loader.cc:64] Could not load dynamic library 'libcuda.so.1'; dlerror: libcuda.so.1: cannot open shared object file: No such file or directory; LD_LIBRARY_PATH: /usr/local/nvidia/lib:/usr/local/nvidia/lib64\n",
            "2023-07-10 11:02:14.198636: W tensorflow/stream_executor/cuda/cuda_driver.cc:269] failed call to cuInit: UNKNOWN ERROR (303)\n",
            "INFO:tensorflow:Starting seq2seq_attention in train mode...\n",
            "I0710 11:02:14.198892 140439040603968 run_summarization.py:397] Starting seq2seq_attention in train mode...\n",
            "max_size of vocab was specified as 50000; we now have 50000 words. Stopping reading.\n",
            "total bad lines: 0/0\n",
            "Finished constructing vocabulary of 50000 total words. Last word added: -hard\n",
            "creating model...\n",
            "using hierarchical attention mechanism for considering sections\n",
            "INFO:tensorflow:Building graph...\n",
            "I0710 11:02:16.019651 140439040603968 model.py:599] Building graph...\n",
            "Writing word embedding metadata file to logroot/test-experiment/train/vocab_metadata.tsv...\n",
            "Traceback (most recent call last):\n",
            "  File \"/content/long-summarization/run_summarization.py\", line 473, in <module>\n",
            "    tf.app.run()\n",
            "  File \"/usr/local/lib/python3.10/dist-packages/tensorflow/python/platform/app.py\", line 36, in run\n",
            "    _run(main=main, argv=argv, flags_parser=_parse_flags_tolerate_undef)\n",
            "  File \"/usr/local/lib/python3.10/dist-packages/absl/app.py\", line 308, in run\n",
            "    _run_main(main, args)\n",
            "  File \"/usr/local/lib/python3.10/dist-packages/absl/app.py\", line 254, in _run_main\n",
            "    sys.exit(main(argv))\n",
            "  File \"/content/long-summarization/run_summarization.py\", line 454, in main\n",
            "    setup_training(model, batcher)\n",
            "  File \"/content/long-summarization/run_summarization.py\", line 261, in setup_training\n",
            "    model.build_graph()  # build the graph\n",
            "  File \"/content/long-summarization/model.py\", line 603, in build_graph\n",
            "    self._add_seq2seq()\n",
            "  File \"/content/long-summarization/model.py\", line 298, in _add_seq2seq\n",
            "    if hps.mode==\"train\": self._add_emb_vis(self.embedding) # add to tensorboard\n",
            "  File \"/content/long-summarization/model.py\", line 243, in _add_emb_vis\n",
            "    summary_writer = tf.summary.create_file_writer(train_dir)\n",
            "AttributeError: module 'tensorflow.compat.v1.summary' has no attribute 'create_file_writer'\n"
          ]
        }
      ]
    },
    {
      "cell_type": "code",
      "source": [],
      "metadata": {
        "id": "NmEJxUbke1DY"
      },
      "execution_count": null,
      "outputs": []
    },
    {
      "cell_type": "code",
      "source": [
        "!git init\n",
        "!git add README.md\n",
        "!git commit -m \"first commit\"\n",
        "!git branch -M main\n",
        "!git remote add origin https://github.com/maryem10/tfarctiles.git\n",
        "!git push -u origin main"
      ],
      "metadata": {
        "colab": {
          "base_uri": "https://localhost:8080/"
        },
        "id": "_AXAlJC6eWhO",
        "outputId": "146c43d7-7306-4d97-f019-7e0628df9597"
      },
      "execution_count": 57,
      "outputs": [
        {
          "output_type": "stream",
          "name": "stdout",
          "text": [
            "Reinitialized existing Git repository in /content/long-summarization/.git/\n",
            "\n",
            "*** Please tell me who you are.\n",
            "\n",
            "Run\n",
            "\n",
            "  git config --global user.email \"you@example.com\"\n",
            "  git config --global user.name \"Your Name\"\n",
            "\n",
            "to set your account's default identity.\n",
            "Omit --global to set the identity only in this repository.\n",
            "\n",
            "fatal: unable to auto-detect email address (got 'root@c3087ec6ac95.(none)')\n",
            "fatal: remote origin already exists.\n",
            "fatal: could not read Username for 'https://github.com': No such device or address\n"
          ]
        }
      ]
    },
    {
      "cell_type": "code",
      "source": [
        "import tensorflow.compat.v1 as tf\n"
      ],
      "metadata": {
        "id": "PAdOdpa7tuPg"
      },
      "execution_count": null,
      "outputs": []
    }
  ]
}